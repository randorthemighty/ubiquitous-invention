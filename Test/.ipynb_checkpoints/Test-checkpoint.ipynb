{
 "cells": [
  {
   "cell_type": "markdown",
   "id": "702d02f2-d792-4180-80d9-68586b280948",
   "metadata": {},
   "source": [
    "This is A test For right now. I will figure the rest out in a moment."
   ]
  },
  {
   "cell_type": "markdown",
   "id": "8e8af92d-d3b8-49b3-bf92-57d2b306548c",
   "metadata": {},
   "source": [
    "Other things so that I don't know what to do"
   ]
  }
 ],
 "metadata": {
  "kernelspec": {
   "display_name": "Python 3 (ipykernel)",
   "language": "python",
   "name": "python3"
  },
  "language_info": {
   "codemirror_mode": {
    "name": "ipython",
    "version": 3
   },
   "file_extension": ".py",
   "mimetype": "text/x-python",
   "name": "python",
   "nbconvert_exporter": "python",
   "pygments_lexer": "ipython3",
   "version": "3.13.3"
  }
 },
 "nbformat": 4,
 "nbformat_minor": 5
}
